{
 "cells": [
  {
   "cell_type": "code",
   "execution_count": 3,
   "id": "c5c9cbe7-a594-4cb6-b9e3-25ca5a4cdd6c",
   "metadata": {},
   "outputs": [],
   "source": [
    "#importing libraries\n",
    "import requests\n",
    "import pandas as pd\n",
    "from bs4 import BeautifulSoup\n",
    "import mysql.connector"
   ]
  },
  {
   "cell_type": "code",
   "execution_count": 4,
   "id": "f408ac6e-db18-494b-ae47-84b59676eced",
   "metadata": {},
   "outputs": [],
   "source": [
    "# Step 1: Database connection setup\n",
    "def connect_to_db():\n",
    "    # For MySQL\n",
    "    conn = mysql.connector.connect(\n",
    "        host=\"localhost\",\n",
    "        user=\"root\",\n",
    "        password=\"chekith\",\n",
    "        database=\"twitter_data\"\n",
    "    )\n",
    "    return conn\n"
   ]
  },
  {
   "cell_type": "code",
   "execution_count": 10,
   "id": "c791910b-454b-44da-815a-02831a89ee9a",
   "metadata": {},
   "outputs": [],
   "source": [
    "# Step 2: Read the CSV to get Twitter profile URLs\n",
    "def load_profile_urls():\n",
    "    df = pd.read_csv(\"C:\\\\Users\\\\user\\\\OneDrive\\\\Desktop\\\\New folder\\\\twitter_profiles_data.csv\", header=None)  # Read without headers\n",
    "    return df[0].tolist()  # Assuming URLs are in the first column"
   ]
  },
  {
   "cell_type": "code",
   "execution_count": 14,
   "id": "15d19c12-8af3-4c27-a716-9559b57ab55f",
   "metadata": {},
   "outputs": [],
   "source": [
    "# Step 3: Scrape Twitter profile details\n",
    "def scrape_twitter_profile():\n",
    "    response = requests.get(\"https://drive.google.com/file/d/1PLYwrGn5YApyWU2QpjbdhM6tea0HuGq7/view\")\n",
    "    soup = BeautifulSoup(response.text, 'html.parser')\n",
    "    profile_data = {\n",
    "        \"Bio\": None,\n",
    "        \"Following Count\": None,\n",
    "        \"Followers Count\": None,\n",
    "        \"Location\": None,\n",
    "        \"Website\": None\n",
    "    }\n",
    "    # Extracting the bio\n",
    "    bio_tag = soup.find('div', {'data-testid': 'UserDescription'})\n",
    "    profile_data['Bio'] = bio_tag.text.strip() if bio_tag else None\n",
    "\n",
    "    # Extracting the following count\n",
    "    following_tag = soup.find('a', {'href': f\"{url}/following\"})\n",
    "    profile_data['Following Count'] = following_tag.find('span').text.strip() if following_tag else None\n",
    "\n",
    "    # Extracting the followers count\n",
    "    followers_tag = soup.find('a', {'href': f\"{url}/followers\"})\n",
    "    profile_data['Followers Count'] = followers_tag.find('span').text.strip() if followers_tag else None\n",
    "\n",
    "    # Extracting location\n",
    "    location_tag = soup.find('span', {'data-testid': 'UserLocation'})\n",
    "    profile_data['Location'] = location_tag.text.strip() if location_tag else None\n",
    "\n",
    "    # Extracting website\n",
    "    website_tag = soup.find('a', {'data-testid': 'UserUrl'})\n",
    "    profile_data['Website'] = website_tag['href'] if website_tag else None\n",
    "\n",
    "    return profile_data"
   ]
  },
  {
   "cell_type": "code",
   "execution_count": 1,
   "id": "1b233871-11f7-4f0e-89ce-f7280edba957",
   "metadata": {},
   "outputs": [],
   "source": [
    "def insert_data_to_db(conn, data):\n",
    "    cursor = conn.cursor()\n",
    "    insert_query = \"\"\"\n",
    "    INSERT INTO profiles (url, bio, following_count, followers_count, location, website)\n",
    "    VALUES (%s, %s, %s, %s, %s, %s);\n",
    "    \"\"\"\n",
    "    cursor.execute(insert_query, (\n",
    "        data['URL'], \n",
    "        data['Bio'], \n",
    "        data['Following Count'], \n",
    "        data['Followers Count'], \n",
    "        data['Location'], \n",
    "        data['Website']\n",
    "    ))\n",
    "    conn.commit()\n",
    "\n",
    "    "
   ]
  },
  {
   "cell_type": "code",
   "execution_count": null,
   "id": "49bdafe4-f99c-4a87-a077-1e155561d7f8",
   "metadata": {},
   "outputs": [],
   "source": []
  }
 ],
 "metadata": {
  "kernelspec": {
   "display_name": "Python 3 (ipykernel)",
   "language": "python",
   "name": "python3"
  },
  "language_info": {
   "codemirror_mode": {
    "name": "ipython",
    "version": 3
   },
   "file_extension": ".py",
   "mimetype": "text/x-python",
   "name": "python",
   "nbconvert_exporter": "python",
   "pygments_lexer": "ipython3",
   "version": "3.13.0"
  }
 },
 "nbformat": 4,
 "nbformat_minor": 5
}
